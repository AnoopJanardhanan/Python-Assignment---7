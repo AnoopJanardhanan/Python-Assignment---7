{
 "cells": [
  {
   "cell_type": "code",
   "execution_count": 1,
   "id": "f525033b-5ef3-41ac-9e82-0c4a2ebc6bd9",
   "metadata": {},
   "outputs": [
    {
     "data": {
      "text/plain": [
       "array([[ 1,  2,  3,  4,  5],\n",
       "       [ 6,  7,  8,  9, 10]])"
      ]
     },
     "execution_count": 1,
     "metadata": {},
     "output_type": "execute_result"
    }
   ],
   "source": [
    "# Create a numpy array containing the numbers from 1 to 10, and then reshape it to a 2x5 matrix.\n",
    "\n",
    "import numpy as np\n",
    "array_1_to_10 = np.arange(1, 11)\n",
    "matrix_2x5 = array_1_to_10.reshape(2, 5)\n",
    "matrix_2x5\n"
   ]
  },
  {
   "cell_type": "code",
   "execution_count": 3,
   "id": "2bdd4f33-73ef-4181-82ee-c2b238fdb6ec",
   "metadata": {},
   "outputs": [
    {
     "data": {
      "text/plain": [
       "array([ 6,  7,  8,  9, 10, 11, 12, 13, 14, 15, 16])"
      ]
     },
     "execution_count": 3,
     "metadata": {},
     "output_type": "execute_result"
    }
   ],
   "source": [
    "# Create a numpy array containing the numbers from 1 to 20, and then extract the elements between the 5th and 15th index.\n",
    "\n",
    "array_1_to_20 = np.arange(1, 21)\n",
    "extracted_elements = array_1_to_20[5:16]\n",
    "extracted_elements\n"
   ]
  },
  {
   "cell_type": "code",
   "execution_count": 3,
   "id": "359d052f-0e7e-4c6b-9209-ea8c0f00f172",
   "metadata": {},
   "outputs": [
    {
     "data": {
      "text/plain": [
       "apples     3\n",
       "bananas    2\n",
       "oranges    1\n",
       "pears      4\n",
       "dtype: int64"
      ]
     },
     "execution_count": 3,
     "metadata": {},
     "output_type": "execute_result"
    }
   ],
   "source": [
    "# Create a Pandas series with the following data: {'apples': 3, 'bananas': 2, 'oranges': 1}. Then, add a new item to the series with the key 'pears' \n",
    "# and the value 4.\n",
    "\n",
    "import pandas as pd\n",
    "fruit_series = pd.Series({'apples': 3, 'bananas': 2, 'oranges': 1})\n",
    "fruit_series['pears'] = 4\n",
    "fruit_series\n"
   ]
  },
  {
   "cell_type": "code",
   "execution_count": 19,
   "id": "8ff422f8-20cc-4bc0-9ccc-39dcf01cbb25",
   "metadata": {},
   "outputs": [
    {
     "name": "stdout",
     "output_type": "stream",
     "text": [
      "      name  age  gender\n",
      "0    Alice   25  Female\n",
      "1      Bob   30    Male\n",
      "2  Charlie   35    Male\n",
      "3    Diana   28  Female\n",
      "4   Edward   40    Male\n",
      "5    Fiona   22  Female\n",
      "6   George   33    Male\n",
      "7   Hannah   27  Female\n",
      "8      Ian   45    Male\n",
      "9    Julia   29  Female\n"
     ]
    }
   ],
   "source": [
    "# Create a dataframe with the following columns: name, age, and gender. The dataframe should have 10 rows of data.\n",
    "    \n",
    "import pandas as pd\n",
    "\n",
    "data = {\n",
    "    \"name\": [\"Alice\", \"Bob\", \"Charlie\", \"Diana\", \"Edward\", \"Fiona\", \"George\", \"Hannah\", \"Ian\", \"Julia\"],\n",
    "    \"age\": [25, 30, 35, 28, 40, 22, 33, 27, 45, 29],\n",
    "    \"gender\": [\"Female\", \"Male\", \"Male\", \"Female\", \"Male\", \"Female\", \"Male\", \"Female\", \"Male\", \"Female\"]\n",
    "}\n",
    "\n",
    "df = pd.DataFrame(data)\n",
    "print(df)\n"
   ]
  },
  {
   "cell_type": "code",
   "execution_count": 23,
   "id": "eb6e57a1-129a-45bb-a632-1dcbfb7e9fca",
   "metadata": {},
   "outputs": [
    {
     "name": "stdout",
     "output_type": "stream",
     "text": [
      "      name  age  gender  occupation\n",
      "0    Alice   25  Female  Programmer\n",
      "1      Bob   30    Male     Manager\n",
      "2  Charlie   35    Male     Analyst\n",
      "3    Diana   28  Female  Programmer\n",
      "4   Edward   40    Male     Manager\n",
      "5    Fiona   22  Female     Analyst\n",
      "6   George   33    Male  Programmer\n",
      "7   Hannah   27  Female     Manager\n",
      "8      Ian   45    Male     Analyst\n",
      "9    Julia   29  Female  Programmer\n"
     ]
    }
   ],
   "source": [
    "# Add a new column to the data frame created in the above question, called occupation. The values for this column should be Programmer, Manager, and \n",
    "# Analyst, corresponding to the rows in the dataframe.\n",
    "\n",
    "import pandas as pd\n",
    "\n",
    "data = {\n",
    "    \"name\": [\"Alice\", \"Bob\", \"Charlie\", \"Diana\", \"Edward\", \"Fiona\", \"George\", \"Hannah\", \"Ian\", \"Julia\"],\n",
    "    \"age\": [25, 30, 35, 28, 40, 22, 33, 27, 45, 29],\n",
    "    \"gender\": [\"Female\", \"Male\", \"Male\", \"Female\", \"Male\", \"Female\", \"Male\", \"Female\", \"Male\", \"Female\"]\n",
    "}\n",
    "\n",
    "df = pd.DataFrame(data)\n",
    "occupations = [\"Programmer\", \"Manager\", \"Analyst\", \"Programmer\", \"Manager\", \"Analyst\", \"Programmer\", \"Manager\", \"Analyst\", \"Programmer\"]\n",
    "df[\"occupation\"] = occupations\n",
    "print(df)\n"
   ]
  },
  {
   "cell_type": "code",
   "execution_count": 25,
   "id": "88db8ac8-9b60-4c6d-927c-82033e9d40fb",
   "metadata": {},
   "outputs": [
    {
     "name": "stdout",
     "output_type": "stream",
     "text": [
      "      name  age gender  occupation\n",
      "1      Bob   30   Male     Manager\n",
      "2  Charlie   35   Male     Analyst\n",
      "4   Edward   40   Male     Manager\n",
      "6   George   33   Male  Programmer\n",
      "8      Ian   45   Male     Analyst\n"
     ]
    }
   ],
   "source": [
    "# Select the rows of the dataframe where the age is greater than or equal to 30.\n",
    "\n",
    "filtered_df = df[df[\"age\"] >= 30]\n",
    "print(filtered_df)\n"
   ]
  },
  {
   "cell_type": "code",
   "execution_count": 7,
   "id": "459ef9dc-5ffb-4e1f-87e1-b90bb4daf39d",
   "metadata": {},
   "outputs": [
    {
     "name": "stdout",
     "output_type": "stream",
     "text": [
      "      name  age  gender  occupation\n",
      "0    Alice   25  Female  Programmer\n",
      "1      Bob   30    Male     Manager\n",
      "2  Charlie   35    Male     Analyst\n",
      "3    Diana   28  Female  Programmer\n",
      "4   Edward   40    Male     Manager\n",
      "5    Fiona   22  Female     Analyst\n",
      "6   George   33    Male  Programmer\n",
      "7   Hannah   27  Female     Manager\n",
      "8      Ian   45    Male     Analyst\n",
      "9    Julia   29  Female  Programmer\n"
     ]
    }
   ],
   "source": [
    "# Convert this dataframe to a csv file and read that csv file, finally display the contents.\n",
    "\n",
    "import pandas as pd\n",
    "data = {\n",
    "    \"name\": [\"Alice\", \"Bob\", \"Charlie\", \"Diana\", \"Edward\", \"Fiona\", \"George\", \"Hannah\", \"Ian\", \"Julia\"],\n",
    "    \"age\": [25, 30, 35, 28, 40, 22, 33, 27, 45, 29],\n",
    "    \"gender\": [\"Female\", \"Male\", \"Male\", \"Female\", \"Male\", \"Female\", \"Male\", \"Female\", \"Male\", \"Female\"],\n",
    "    \"occupation\": [\"Programmer\", \"Manager\", \"Analyst\", \"Programmer\", \"Manager\", \"Analyst\", \"Programmer\", \"Manager\", \"Analyst\", \"Programmer\"]\n",
    "}\n",
    "\n",
    "df = pd.DataFrame(data)\n",
    "\n",
    "df.to_csv(\"sample_dataframe.csv\", index=False)\n",
    "\n",
    "read_df = pd.read_csv(\"sample_dataframe.csv\")\n",
    "\n",
    "print(read_df)\n"
   ]
  },
  {
   "cell_type": "code",
   "execution_count": null,
   "id": "4c1215eb-58dc-415c-8526-b59c4a3e70f8",
   "metadata": {},
   "outputs": [],
   "source": []
  }
 ],
 "metadata": {
  "kernelspec": {
   "display_name": "Python 3 (ipykernel)",
   "language": "python",
   "name": "python3"
  },
  "language_info": {
   "codemirror_mode": {
    "name": "ipython",
    "version": 3
   },
   "file_extension": ".py",
   "mimetype": "text/x-python",
   "name": "python",
   "nbconvert_exporter": "python",
   "pygments_lexer": "ipython3",
   "version": "3.12.4"
  }
 },
 "nbformat": 4,
 "nbformat_minor": 5
}
